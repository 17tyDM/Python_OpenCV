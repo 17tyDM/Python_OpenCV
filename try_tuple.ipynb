{
 "cells": [
  {
   "cell_type": "code",
   "execution_count": 3,
   "metadata": {},
   "outputs": [
    {
     "data": {
      "text/plain": [
       "1"
      ]
     },
     "execution_count": 3,
     "metadata": {},
     "output_type": "execute_result"
    }
   ],
   "source": [
    "a = (1, 'pom')\n",
    "a[0]"
   ]
  },
  {
   "cell_type": "code",
   "execution_count": 4,
   "metadata": {},
   "outputs": [
    {
     "data": {
      "text/plain": [
       "'pom'"
      ]
     },
     "execution_count": 4,
     "metadata": {},
     "output_type": "execute_result"
    }
   ],
   "source": [
    "a[1]"
   ]
  },
  {
   "cell_type": "code",
   "execution_count": 5,
   "metadata": {},
   "outputs": [
    {
     "data": {
      "text/plain": [
       "('a', 'b', 'c')"
      ]
     },
     "execution_count": 5,
     "metadata": {},
     "output_type": "execute_result"
    }
   ],
   "source": [
    "ｂ= ((1, 2, 3), ('a', 'b', 'c'), (True, True, False))\n",
    "b[1]\n"
   ]
  },
  {
   "cell_type": "code",
   "execution_count": 6,
   "metadata": {},
   "outputs": [
    {
     "data": {
      "text/plain": [
       "False"
      ]
     },
     "execution_count": 6,
     "metadata": {},
     "output_type": "execute_result"
    }
   ],
   "source": [
    "b[2][2]"
   ]
  },
  {
   "cell_type": "code",
   "execution_count": 7,
   "metadata": {},
   "outputs": [
    {
     "name": "stdout",
     "output_type": "stream",
     "text": [
      "(1, 2, 3)\n",
      "('a', 'b', 'c')\n",
      "(True, True, False)\n"
     ]
    }
   ],
   "source": [
    "for data in b:\n",
    "    print(data)"
   ]
  },
  {
   "cell_type": "code",
   "execution_count": 8,
   "metadata": {},
   "outputs": [
    {
     "name": "stdout",
     "output_type": "stream",
     "text": [
      "x:1, y:2, z:3\n",
      "x:a, y:b, z:c\n",
      "x:True, y:True, z:False\n"
     ]
    }
   ],
   "source": [
    "for x, y, z in b:\n",
    "    print(f'x:{x}, y:{y}, z:{z}')"
   ]
  },
  {
   "cell_type": "code",
   "execution_count": 9,
   "metadata": {},
   "outputs": [
    {
     "data": {
      "text/plain": [
       "'qomadded'"
      ]
     },
     "execution_count": 9,
     "metadata": {},
     "output_type": "execute_result"
    }
   ],
   "source": [
    "def test_tuple(param):\n",
    "    return param[0] + 1, param[1] + 'added'\n",
    "c, d = test_tuple((3, 'qom'))\n",
    "d"
   ]
  },
  {
   "cell_type": "code",
   "execution_count": 11,
   "metadata": {},
   "outputs": [
    {
     "data": {
      "text/plain": [
       "array([[[ 53,  73, 108],\n",
       "        [ 53,  72, 109],\n",
       "        [ 53,  68, 107],\n",
       "        ...,\n",
       "        [ 44,  42,  54],\n",
       "        [ 50,  47,  62],\n",
       "        [ 57,  54,  69]],\n",
       "\n",
       "       [[ 55,  75, 110],\n",
       "        [ 55,  73, 110],\n",
       "        [ 53,  68, 107],\n",
       "        ...,\n",
       "        [ 42,  40,  52],\n",
       "        [ 45,  42,  57],\n",
       "        [ 51,  48,  63]],\n",
       "\n",
       "       [[ 55,  74, 109],\n",
       "        [ 55,  73, 110],\n",
       "        [ 53,  68, 107],\n",
       "        ...,\n",
       "        [ 39,  39,  53],\n",
       "        [ 42,  42,  56],\n",
       "        [ 47,  47,  61]],\n",
       "\n",
       "       ...,\n",
       "\n",
       "       [[ 54,  74, 131],\n",
       "        [ 52,  73, 128],\n",
       "        [ 56,  78, 130],\n",
       "        ...,\n",
       "        [ 61,  76, 122],\n",
       "        [ 60,  75, 121],\n",
       "        [ 66,  81, 127]],\n",
       "\n",
       "       [[ 52,  72, 130],\n",
       "        [ 50,  70, 127],\n",
       "        [ 55,  76, 131],\n",
       "        ...,\n",
       "        [ 64,  78, 126],\n",
       "        [ 60,  74, 122],\n",
       "        [ 63,  79, 126]],\n",
       "\n",
       "       [[ 51,  72, 133],\n",
       "        [ 51,  73, 131],\n",
       "        [ 51,  71, 126],\n",
       "        ...,\n",
       "        [ 73,  87, 139],\n",
       "        [ 66,  80, 133],\n",
       "        [ 69,  85, 138]]], dtype=uint8)"
      ]
     },
     "execution_count": 11,
     "metadata": {},
     "output_type": "execute_result"
    }
   ],
   "source": [
    "import numpy as np\n",
    "import cv2\n",
    "img = cv2.imread('sample.jpg')\n",
    "img"
   ]
  },
  {
   "cell_type": "code",
   "execution_count": 12,
   "metadata": {},
   "outputs": [
    {
     "name": "stdout",
     "output_type": "stream",
     "text": [
      "95.33617407407408\n"
     ]
    }
   ],
   "source": [
    "print(np.average(img))"
   ]
  },
  {
   "cell_type": "code",
   "execution_count": 13,
   "metadata": {},
   "outputs": [
    {
     "name": "stdout",
     "output_type": "stream",
     "text": [
      "25740767\n"
     ]
    }
   ],
   "source": [
    "print(np.sum(img))"
   ]
  },
  {
   "cell_type": "code",
   "execution_count": 21,
   "metadata": {},
   "outputs": [
    {
     "data": {
      "text/plain": [
       "(1889431, 629810.3333333334)"
      ]
     },
     "execution_count": 21,
     "metadata": {},
     "output_type": "execute_result"
    }
   ],
   "source": [
    "def testtup(a) :\n",
    "    b = np.sum(a)\n",
    "    c = np.average(a)\n",
    "    return b,c\n",
    "testtup((614153,1253125,22153))"
   ]
  },
  {
   "cell_type": "code",
   "execution_count": null,
   "metadata": {},
   "outputs": [],
   "source": []
  }
 ],
 "metadata": {
  "kernelspec": {
   "display_name": "venv",
   "language": "python",
   "name": "python3"
  },
  "language_info": {
   "codemirror_mode": {
    "name": "ipython",
    "version": 3
   },
   "file_extension": ".py",
   "mimetype": "text/x-python",
   "name": "python",
   "nbconvert_exporter": "python",
   "pygments_lexer": "ipython3",
   "version": "3.10.6"
  },
  "orig_nbformat": 4
 },
 "nbformat": 4,
 "nbformat_minor": 2
}
